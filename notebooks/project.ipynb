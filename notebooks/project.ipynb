{
 "cells": [
  {
   "cell_type": "code",
   "execution_count": 3,
   "id": "ec1326d7",
   "metadata": {},
   "outputs": [],
   "source": [
    "import pandas as pd"
   ]
  },
  {
   "cell_type": "code",
   "execution_count": 4,
   "id": "c15f467b",
   "metadata": {},
   "outputs": [],
   "source": [
    "review = pd.read_csv(\"all_reviews.csv\")"
   ]
  },
  {
   "cell_type": "code",
   "execution_count": 3,
   "id": "ad57c840",
   "metadata": {},
   "outputs": [
    {
     "name": "stdout",
     "output_type": "stream",
     "text": [
      "<class 'pandas.core.frame.DataFrame'>\n",
      "RangeIndex: 19345 entries, 0 to 19344\n",
      "Data columns (total 8 columns):\n",
      " #   Column             Non-Null Count  Dtype  \n",
      "---  ------             --------------  -----  \n",
      " 0   Region             19345 non-null  object \n",
      " 1   City               19345 non-null  object \n",
      " 2   Place Type         19345 non-null  object \n",
      " 3   Place Category     19345 non-null  object \n",
      " 4   Place Name         19345 non-null  object \n",
      " 5   Rating             19345 non-null  float64\n",
      " 6   Review Text        19143 non-null  object \n",
      " 7   Reviewer Language  19345 non-null  object \n",
      "dtypes: float64(1), object(7)\n",
      "memory usage: 1.2+ MB\n"
     ]
    }
   ],
   "source": [
    "review.info()"
   ]
  },
  {
   "cell_type": "code",
   "execution_count": 4,
   "id": "d6b3fc43",
   "metadata": {},
   "outputs": [
    {
     "data": {
      "text/plain": [
       "Index(['Region', 'City', 'Place Type', 'Place Category', 'Place Name',\n",
       "       'Rating', 'Review Text', 'Reviewer Language'],\n",
       "      dtype='object')"
      ]
     },
     "execution_count": 4,
     "metadata": {},
     "output_type": "execute_result"
    }
   ],
   "source": [
    "review.columns"
   ]
  },
  {
   "cell_type": "code",
   "execution_count": 5,
   "id": "a63a2326",
   "metadata": {},
   "outputs": [
    {
     "name": "stderr",
     "output_type": "stream",
     "text": [
      "[nltk_data] Downloading package punkt to\n",
      "[nltk_data]     /Users/macbookpro/nltk_data...\n",
      "[nltk_data]   Package punkt is already up-to-date!\n",
      "[nltk_data] Downloading package stopwords to\n",
      "[nltk_data]     /Users/macbookpro/nltk_data...\n",
      "[nltk_data]   Package stopwords is already up-to-date!\n"
     ]
    },
    {
     "data": {
      "text/plain": [
       "True"
      ]
     },
     "execution_count": 5,
     "metadata": {},
     "output_type": "execute_result"
    }
   ],
   "source": [
    "import pandas as pd\n",
    "import string\n",
    "import re\n",
    "from nltk.corpus import stopwords\n",
    "from nltk.tokenize import word_tokenize\n",
    "import nltk\n",
    "\n",
    "# Download sto\n",
    "#\n",
    "#\n",
    "#\n",
    "# pwords if not done already\n",
    "nltk.download('punkt')\n",
    "nltk.download('stopwords')"
   ]
  },
  {
   "cell_type": "code",
   "execution_count": 6,
   "id": "f5d3f0fb",
   "metadata": {},
   "outputs": [
    {
     "data": {
      "text/plain": [
       "(19143, 8)"
      ]
     },
     "execution_count": 6,
     "metadata": {},
     "output_type": "execute_result"
    }
   ],
   "source": [
    "# Step 1.1: Drop rows with missing Review Text\n",
    "review = review.dropna(subset=['Review Text'])\n",
    "\n",
    "review.shape"
   ]
  },
  {
   "cell_type": "code",
   "execution_count": 7,
   "id": "304b6cb2",
   "metadata": {},
   "outputs": [
    {
     "data": {
      "text/plain": [
       "(17762, 8)"
      ]
     },
     "execution_count": 7,
     "metadata": {},
     "output_type": "execute_result"
    }
   ],
   "source": [
    "# Step 1.2: Remove duplicate rows (based on Review Text + Place Name)\n",
    "review = review.drop_duplicates(subset=['Review Text', 'Place Name'])\n",
    "review.shape"
   ]
  },
  {
   "cell_type": "code",
   "execution_count": 8,
   "id": "0e4faaa2",
   "metadata": {},
   "outputs": [
    {
     "data": {
      "text/plain": [
       "(17762, 8)"
      ]
     },
     "execution_count": 8,
     "metadata": {},
     "output_type": "execute_result"
    }
   ],
   "source": [
    "# Step 1.1: Drop rows with missing Review Text\n",
    "review = review.dropna(subset=['Review Text'])\n",
    "review.shape"
   ]
  },
  {
   "cell_type": "code",
   "execution_count": 9,
   "id": "d77cbb43",
   "metadata": {},
   "outputs": [
    {
     "data": {
      "text/plain": [
       "(17762, 8)"
      ]
     },
     "execution_count": 9,
     "metadata": {},
     "output_type": "execute_result"
    }
   ],
   "source": [
    "# Step 1.2: Remove duplicate rows (based on Review Text + Place Name)\n",
    "review = review.drop_duplicates(subset=['Review Text', 'Place Name'])\n",
    "review.shape"
   ]
  },
  {
   "cell_type": "code",
   "execution_count": 10,
   "id": "0400984f",
   "metadata": {},
   "outputs": [
    {
     "name": "stderr",
     "output_type": "stream",
     "text": [
      "[nltk_data] Downloading package punkt to\n",
      "[nltk_data]     /Users/macbookpro/nltk_data...\n",
      "[nltk_data]   Package punkt is already up-to-date!\n",
      "[nltk_data] Downloading package stopwords to\n",
      "[nltk_data]     /Users/macbookpro/nltk_data...\n",
      "[nltk_data]   Package stopwords is already up-to-date!\n"
     ]
    },
    {
     "name": "stdout",
     "output_type": "stream",
     "text": [
      "location best good chains outlets available within km distance rooms big amenities served try room service comment checkin checkout smooth cleanliness could improved\n"
     ]
    }
   ],
   "source": [
    "import re\n",
    "import string\n",
    "from nltk.corpus import stopwords\n",
    "from nltk.tokenize import word_tokenize\n",
    "\n",
    "# make sure NLTK resources are downloaded\n",
    "import nltk\n",
    "nltk.download('punkt')\n",
    "nltk.download('stopwords')\n",
    "\n",
    "# Step 1.3: Define the cleaning function\n",
    "def clean_text(text):\n",
    "    text = text.lower()  # lowercase\n",
    "    text = re.sub(r'\\d+', '', text)  # remove numbers\n",
    "    text = text.translate(str.maketrans('', '', string.punctuation))  # remove punctuation\n",
    "    tokens = word_tokenize(text)  # tokenize\n",
    "    stop_words = set(stopwords.words('english'))  # define stopwords\n",
    "    tokens = [word for word in tokens if word not in stop_words]  # remove stopwords\n",
    "    return ' '.join(tokens)  # rejoin cleaned words\n",
    "\n",
    "# Apply to your DataFrame\n",
    "review['Cleaned Review'] = review['Review Text'].apply(clean_text)\n",
    "\n",
    "# Check the result\n",
    "print(review['Cleaned Review'][0])\n"
   ]
  },
  {
   "cell_type": "code",
   "execution_count": 11,
   "id": "f8fdf7e9",
   "metadata": {},
   "outputs": [],
   "source": [
    "# Step 1.4: Apply cleaning\n",
    "review['Cleaned Review'] = review['Review Text'].apply(clean_text)\n"
   ]
  },
  {
   "cell_type": "code",
   "execution_count": 12,
   "id": "1b5a3dff",
   "metadata": {},
   "outputs": [
    {
     "data": {
      "text/plain": [
       "'location best good chains outlets available within km distance rooms big amenities served try room service comment checkin checkout smooth cleanliness could improved'"
      ]
     },
     "execution_count": 12,
     "metadata": {},
     "output_type": "execute_result"
    }
   ],
   "source": [
    "#checking one cleaned review\n",
    "review['Cleaned Review'][0]"
   ]
  },
  {
   "cell_type": "markdown",
   "id": "18fd0625",
   "metadata": {},
   "source": [
    "## ✅ Filter to Keep Only English Reviews\n"
   ]
  },
  {
   "cell_type": "code",
   "execution_count": 13,
   "id": "51e3b45e",
   "metadata": {},
   "outputs": [
    {
     "name": "stdout",
     "output_type": "stream",
     "text": [
      "Remaining rows after keeping only English reviews: 17355\n",
      "Languages kept:\n",
      "Reviewer Language\n",
      "en       15585\n",
      "en-US     1770\n",
      "Name: count, dtype: int64\n"
     ]
    }
   ],
   "source": [
    "# Define allowed English language tags\n",
    "allowed_langs = ['en', 'en-us']\n",
    "\n",
    "# Filter to keep only rows with 'en' or 'en-US' (case-insensitive)\n",
    "review = review[review['Reviewer Language'].str.lower().isin(allowed_langs)]\n",
    "\n",
    "# Reset index\n",
    "review = review.reset_index(drop=True)\n",
    "\n",
    "# Check result\n",
    "print(f\"Remaining rows after keeping only English reviews: {len(review)}\")\n",
    "print(\"Languages kept:\")\n",
    "print(review['Reviewer Language'].value_counts())\n"
   ]
  },
  {
   "cell_type": "markdown",
   "id": "e5e6b157",
   "metadata": {},
   "source": [
    "## ✅ Step 3: Sentiment Analysis (Labeling Reviews, dummy model)\n"
   ]
  },
  {
   "cell_type": "code",
   "execution_count": 14,
   "id": "2377cfbe",
   "metadata": {},
   "outputs": [
    {
     "name": "stderr",
     "output_type": "stream",
     "text": [
      "[nltk_data] Downloading package vader_lexicon to\n",
      "[nltk_data]     /Users/macbookpro/nltk_data...\n",
      "[nltk_data]   Package vader_lexicon is already up-to-date!\n"
     ]
    },
    {
     "name": "stdout",
     "output_type": "stream",
     "text": [
      "                                          Cleaned Review  compound  \\\n",
      "4893   best park town big spacious lots activities pl...    0.2960   \n",
      "16470  excellent place visit tickets must purchased o...    0.9601   \n",
      "11300  good branch barns cafes believe could add staf...    0.4404   \n",
      "16403  dr café coffee sulaimaniyah decent spot though...    0.9260   \n",
      "13299  people friendly rooms clean location pretty mu...    0.8020   \n",
      "\n",
      "      Sentiment Label  \n",
      "4893         positive  \n",
      "16470        positive  \n",
      "11300        positive  \n",
      "16403        positive  \n",
      "13299        positive  \n"
     ]
    }
   ],
   "source": [
    "from nltk.sentiment.vader import SentimentIntensityAnalyzer\n",
    "import nltk\n",
    "\n",
    "# Download the lexicon\n",
    "nltk.download('vader_lexicon')\n",
    "\n",
    "# Initialize sentiment analyzer\n",
    "vader = SentimentIntensityAnalyzer()\n",
    "\n",
    "# Apply sentiment scoring\n",
    "def get_sentiment_scores(text):\n",
    "    return vader.polarity_scores(text)\n",
    "\n",
    "# Create new sentiment columns\n",
    "sentiment_scores = review['Cleaned Review'].apply(get_sentiment_scores).apply(pd.Series)\n",
    "\n",
    "# Merge back to review DataFrame\n",
    "review = pd.concat([review, sentiment_scores], axis=1)\n",
    "\n",
    "# Label sentiment based on compound score\n",
    "def label_sentiment(compound):\n",
    "    if compound >= 0.05:\n",
    "        return 'positive'\n",
    "    elif compound <= -0.05:\n",
    "        return 'negative'\n",
    "    else:\n",
    "        return 'neutral'\n",
    "\n",
    "review['Sentiment Label'] = review['compound'].apply(label_sentiment)\n",
    "\n",
    "# Preview results\n",
    "print(review[['Cleaned Review', 'compound', 'Sentiment Label']].sample(5))\n"
   ]
  },
  {
   "cell_type": "code",
   "execution_count": 15,
   "id": "722bc75c",
   "metadata": {},
   "outputs": [
    {
     "data": {
      "text/plain": [
       "<Axes: >"
      ]
     },
     "execution_count": 15,
     "metadata": {},
     "output_type": "execute_result"
    },
    {
     "data": {
      "image/png": "[encoded data removed]",
      "text/plain": [
       "<Figure size 640x480 with 1 Axes>"
      ]
     },
     "metadata": {},
     "output_type": "display_data"
    }
   ],
   "source": [
    "review[\"Sentiment Label\"].hist()"
   ]
  },
  {
   "cell_type": "code",
   "execution_count": 16,
   "id": "9e388068",
   "metadata": {},
   "outputs": [
    {
     "name": "stdout",
     "output_type": "stream",
     "text": [
      "<class 'pandas.core.frame.DataFrame'>\n",
      "RangeIndex: 17355 entries, 0 to 17354\n",
      "Data columns (total 14 columns):\n",
      " #   Column             Non-Null Count  Dtype  \n",
      "---  ------             --------------  -----  \n",
      " 0   Region             17355 non-null  object \n",
      " 1   City               17355 non-null  object \n",
      " 2   Place Type         17355 non-null  object \n",
      " 3   Place Category     17355 non-null  object \n",
      " 4   Place Name         17355 non-null  object \n",
      " 5   Rating             17355 non-null  float64\n",
      " 6   Review Text        17355 non-null  object \n",
      " 7   Reviewer Language  17355 non-null  object \n",
      " 8   Cleaned Review     17355 non-null  object \n",
      " 9   neg                17355 non-null  float64\n",
      " 10  neu                17355 non-null  float64\n",
      " 11  pos                17355 non-null  float64\n",
      " 12  compound           17355 non-null  float64\n",
      " 13  Sentiment Label    17355 non-null  object \n",
      "dtypes: float64(5), object(9)\n",
      "memory usage: 1.9+ MB\n"
     ]
    }
   ],
   "source": [
    "review.info()"
   ]
  },
  {
   "cell_type": "markdown",
   "id": "a50be607",
   "metadata": {},
   "source": [
    "## City/Region Sentiment Insights"
   ]
  },
  {
   "cell_type": "code",
   "execution_count": 17,
   "id": "0ac8bdf4",
   "metadata": {},
   "outputs": [
    {
     "data": {
      "image/png": "[encoded data removed]",
      "text/plain": [
       "<Figure size 1200x600 with 1 Axes>"
      ]
     },
     "metadata": {},
     "output_type": "display_data"
    }
   ],
   "source": [
    "import matplotlib.pyplot as plt\n",
    "import seaborn as sns\n",
    "\n",
    "# Average sentiment score by city\n",
    "city_sentiment = review.groupby('City')['compound'].mean().sort_values()\n",
    "\n",
    "plt.figure(figsize=(12, 6))\n",
    "sns.barplot(x=city_sentiment.values, y=city_sentiment.index)\n",
    "plt.title(\"Average Sentiment Score by City\")\n",
    "plt.xlabel(\"Compound Sentiment Score\")\n",
    "plt.ylabel(\"City\")\n",
    "plt.tight_layout()\n",
    "plt.show()\n"
   ]
  },
  {
   "cell_type": "markdown",
   "id": "a62ed216",
   "metadata": {},
   "source": [
    "## Mismatch Detection — Rating vs Sentiment\n"
   ]
  },
  {
   "cell_type": "code",
   "execution_count": 18,
   "id": "5881ef6d",
   "metadata": {},
   "outputs": [
    {
     "name": "stdout",
     "output_type": "stream",
     "text": [
      "                        Place Name  Rating  compound Sentiment Label\n",
      "6844                  Snowy Forest     2.5    0.6884        positive\n",
      "10957                       ALBAIK     4.0   -0.5423        negative\n",
      "12854        Ramez Shopping Center     4.0   -0.7964        negative\n",
      "10959                       ALBAIK     4.0   -0.7579        negative\n",
      "3194   ريف القصيم للاجنحه الفندقيه     4.0   -0.8715        negative\n"
     ]
    }
   ],
   "source": [
    "# Add mismatch flag\n",
    "review['Mismatch'] = review.apply(\n",
    "    lambda row: 'Mismatch' if (row['compound'] > 0.5 and row['Rating'] <= 2.5) or\n",
    "                                     (row['compound'] < -0.5 and row['Rating'] >= 4.0)\n",
    "    else 'Aligned',\n",
    "    axis=1\n",
    ")\n",
    "\n",
    "# Show samples\n",
    "print(review[review['Mismatch'] == 'Mismatch'][['Place Name', 'Rating', 'compound', 'Sentiment Label']].sample(5))\n"
   ]
  },
  {
   "cell_type": "markdown",
   "id": "c0e1caed",
   "metadata": {},
   "source": [
    "## Category-Level Emotion Trends\n"
   ]
  },
  {
   "cell_type": "code",
   "execution_count": 19,
   "id": "4045c297",
   "metadata": {},
   "outputs": [
    {
     "data": {
      "image/png": "[encoded data removed]",
      "text/plain": [
       "<Figure size 1200x800 with 1 Axes>"
      ]
     },
     "metadata": {},
     "output_type": "display_data"
    }
   ],
   "source": [
    "# Count of emotion labels by place category\n",
    "emotion_counts = review.groupby(['Place Category', 'Sentiment Label']).size().unstack().fillna(0)\n",
    "\n",
    "# Normalize for proportions\n",
    "emotion_props = emotion_counts.div(emotion_counts.sum(axis=1), axis=0)\n",
    "\n",
    "emotion_props.plot(kind='barh', stacked=True, figsize=(12, 8))\n",
    "plt.title(\"Sentiment Label Distribution by Place Category\")\n",
    "plt.xlabel(\"Proportion\")\n",
    "plt.ylabel(\"Place Category\")\n",
    "plt.legend(title=\"Sentiment\")\n",
    "plt.tight_layout()\n",
    "plt.show()\n"
   ]
  },
  {
   "cell_type": "markdown",
   "id": "4037773c",
   "metadata": {},
   "source": [
    "## Building a streamlit app"
   ]
  },
  {
   "cell_type": "markdown",
   "id": "f0b1b1a2",
   "metadata": {},
   "source": [
    "### ✅ Next Step: Save Your DataFrame as CSV for Streamlit\n"
   ]
  },
  {
   "cell_type": "code",
   "execution_count": 20,
   "id": "a6cfa334",
   "metadata": {},
   "outputs": [],
   "source": [
    "#review.to_csv(\"review_data.csv\", index=False)"
   ]
  },
  {
   "cell_type": "code",
   "execution_count": 21,
   "id": "b7647e0f",
   "metadata": {},
   "outputs": [],
   "source": [
    "#!pip install streamlit\n"
   ]
  },
  {
   "cell_type": "code",
   "execution_count": 22,
   "id": "0b505616",
   "metadata": {},
   "outputs": [],
   "source": [
    "#!pip show streamlit\n"
   ]
  },
  {
   "cell_type": "code",
   "execution_count": 23,
   "id": "f9330e41",
   "metadata": {},
   "outputs": [],
   "source": [
    "#!pip install --upgrade streamlit"
   ]
  },
  {
   "cell_type": "markdown",
   "id": "af282caf",
   "metadata": {},
   "source": [
    "### ✅ Update Your Streamlit App"
   ]
  },
  {
   "cell_type": "code",
   "execution_count": 24,
   "id": "57491bae",
   "metadata": {},
   "outputs": [
    {
     "name": "stderr",
     "output_type": "stream",
     "text": [
      "2025-04-25 14:33:19.183 WARNING streamlit.runtime.caching.cache_data_api: No runtime found, using MemoryCacheStorageManager\n",
      "2025-04-25 14:33:19.185 WARNING streamlit.runtime.caching.cache_data_api: No runtime found, using MemoryCacheStorageManager\n",
      "2025-04-25 14:33:19.186 WARNING streamlit.runtime.scriptrunner_utils.script_run_context: Thread 'MainThread': missing ScriptRunContext! This warning can be ignored when running in bare mode.\n",
      "2025-04-25 14:33:19.589 \n",
      "  \u001b[33m\u001b[1mWarning:\u001b[0m to view this Streamlit app on a browser, run it with the following\n",
      "  command:\n",
      "\n",
      "    streamlit run /Users/macbookpro/.pyenv/versions/3.10.6/envs/Beyond_the_Stars/lib/python3.10/site-packages/ipykernel_launcher.py [ARGUMENTS]\n",
      "2025-04-25 14:33:19.591 Thread 'MainThread': missing ScriptRunContext! This warning can be ignored when running in bare mode.\n",
      "2025-04-25 14:33:19.592 Thread 'MainThread': missing ScriptRunContext! This warning can be ignored when running in bare mode.\n",
      "2025-04-25 14:33:19.786 Thread 'MainThread': missing ScriptRunContext! This warning can be ignored when running in bare mode.\n",
      "2025-04-25 14:33:19.787 Thread 'MainThread': missing ScriptRunContext! This warning can be ignored when running in bare mode.\n",
      "2025-04-25 14:33:19.792 Thread 'MainThread': missing ScriptRunContext! This warning can be ignored when running in bare mode.\n",
      "2025-04-25 14:33:19.793 Thread 'MainThread': missing ScriptRunContext! This warning can be ignored when running in bare mode.\n",
      "2025-04-25 14:33:19.794 Thread 'MainThread': missing ScriptRunContext! This warning can be ignored when running in bare mode.\n",
      "2025-04-25 14:33:19.796 Thread 'MainThread': missing ScriptRunContext! This warning can be ignored when running in bare mode.\n",
      "2025-04-25 14:33:19.822 Thread 'MainThread': missing ScriptRunContext! This warning can be ignored when running in bare mode.\n",
      "2025-04-25 14:33:19.823 Thread 'MainThread': missing ScriptRunContext! This warning can be ignored when running in bare mode.\n"
     ]
    },
    {
     "data": {
      "text/plain": [
       "DeltaGenerator()"
      ]
     },
     "execution_count": 24,
     "metadata": {},
     "output_type": "execute_result"
    }
   ],
   "source": [
    "import streamlit as st\n",
    "import pandas as pd\n",
    "\n",
    "@st.cache_data\n",
    "def load_data():\n",
    "    return pd.read_csv(\"review_data.csv\")\n",
    "\n",
    "review = load_data()\n",
    "\n",
    "st.title(\"Saudi Tourism Review Analyzer 🇸🇦\")\n",
    "st.subheader(\"Raw Data Preview\")\n",
    "st.dataframe(review.head())\n"
   ]
  },
  {
   "cell_type": "code",
   "execution_count": 25,
   "id": "40987e49",
   "metadata": {},
   "outputs": [
    {
     "name": "stderr",
     "output_type": "stream",
     "text": [
      "2025-04-25 14:33:19.838 No runtime found, using MemoryCacheStorageManager\n",
      "2025-04-25 14:33:19.869 Thread 'MainThread': missing ScriptRunContext! This warning can be ignored when running in bare mode.\n",
      "2025-04-25 14:33:19.869 Thread 'MainThread': missing ScriptRunContext! This warning can be ignored when running in bare mode.\n",
      "2025-04-25 14:33:19.874 Thread 'MainThread': missing ScriptRunContext! This warning can be ignored when running in bare mode.\n",
      "2025-04-25 14:33:19.875 Thread 'MainThread': missing ScriptRunContext! This warning can be ignored when running in bare mode.\n"
     ]
    },
    {
     "data": {
      "text/plain": [
       "DeltaGenerator()"
      ]
     },
     "execution_count": 25,
     "metadata": {},
     "output_type": "execute_result"
    }
   ],
   "source": [
    "import streamlit as st\n",
    "import pandas as pd\n",
    "\n",
    "@st.cache_data\n",
    "def load_data():\n",
    "    return pd.read_csv(\"review_data.csv\")\n",
    "\n",
    "review = load_data()\n",
    "\n",
    "st.title(\"Saudi Tourism Review Analyzer\")\n",
    "st.dataframe(review.head())\n"
   ]
  },
  {
   "cell_type": "code",
   "execution_count": 6,
   "id": "0838f38a",
   "metadata": {},
   "outputs": [
    {
     "data": {
      "text/html": [
       "<div>\n",
       "<style scoped>\n",
       "    .dataframe tbody tr th:only-of-type {\n",
       "        vertical-align: middle;\n",
       "    }\n",
       "\n",
       "    .dataframe tbody tr th {\n",
       "        vertical-align: top;\n",
       "    }\n",
       "\n",
       "    .dataframe thead th {\n",
       "        text-align: right;\n",
       "    }\n",
       "</style>\n",
       "<table border=\"1\" class=\"dataframe\">\n",
       "  <thead>\n",
       "    <tr style=\"text-align: right;\">\n",
       "      <th></th>\n",
       "      <th>Region</th>\n",
       "      <th>City</th>\n",
       "      <th>Place Type</th>\n",
       "      <th>Place Category</th>\n",
       "      <th>Place Name</th>\n",
       "      <th>Rating</th>\n",
       "      <th>Review Text</th>\n",
       "      <th>Reviewer Language</th>\n",
       "      <th>Cleaned Review</th>\n",
       "      <th>neg</th>\n",
       "      <th>neu</th>\n",
       "      <th>pos</th>\n",
       "      <th>compound</th>\n",
       "      <th>Sentiment Label</th>\n",
       "      <th>Mismatch</th>\n",
       "    </tr>\n",
       "  </thead>\n",
       "  <tbody>\n",
       "    <tr>\n",
       "      <th>0</th>\n",
       "      <td>Central</td>\n",
       "      <td>Buraidah</td>\n",
       "      <td>restaurant</td>\n",
       "      <td>restaurant</td>\n",
       "      <td>مطعم &amp; لاونج لي شارمنت</td>\n",
       "      <td>3.8</td>\n",
       "      <td>The place was nice and the staffs are very acc...</td>\n",
       "      <td>en</td>\n",
       "      <td>place nice staffs accommodating credit manager...</td>\n",
       "      <td>0.000</td>\n",
       "      <td>0.470</td>\n",
       "      <td>0.530</td>\n",
       "      <td>0.9601</td>\n",
       "      <td>positive</td>\n",
       "      <td>Aligned</td>\n",
       "    </tr>\n",
       "    <tr>\n",
       "      <th>1</th>\n",
       "      <td>Central</td>\n",
       "      <td>Buraidah</td>\n",
       "      <td>shopping_mall</td>\n",
       "      <td>shopping_mall</td>\n",
       "      <td>Al Jedai Mall</td>\n",
       "      <td>3.9</td>\n",
       "      <td>The return of forbidden wearing short😅. Dont g...</td>\n",
       "      <td>en</td>\n",
       "      <td>return forbidden wearing short😅 dont go al oth...</td>\n",
       "      <td>0.203</td>\n",
       "      <td>0.797</td>\n",
       "      <td>0.000</td>\n",
       "      <td>-0.4215</td>\n",
       "      <td>negative</td>\n",
       "      <td>Aligned</td>\n",
       "    </tr>\n",
       "    <tr>\n",
       "      <th>2</th>\n",
       "      <td>West</td>\n",
       "      <td>Mecca</td>\n",
       "      <td>restaurant</td>\n",
       "      <td>restaurant</td>\n",
       "      <td>Makkah Restaurant</td>\n",
       "      <td>4.1</td>\n",
       "      <td>Very very very unhygienic maintained\\nThe floo...</td>\n",
       "      <td>en</td>\n",
       "      <td>unhygienic maintained floors chipchip could fe...</td>\n",
       "      <td>0.028</td>\n",
       "      <td>0.653</td>\n",
       "      <td>0.320</td>\n",
       "      <td>0.9692</td>\n",
       "      <td>positive</td>\n",
       "      <td>Aligned</td>\n",
       "    </tr>\n",
       "    <tr>\n",
       "      <th>3</th>\n",
       "      <td>East</td>\n",
       "      <td>Al Ahsa</td>\n",
       "      <td>cafe</td>\n",
       "      <td>cafe</td>\n",
       "      <td>Barn's | بارنز</td>\n",
       "      <td>4.4</td>\n",
       "      <td>Ice shaken white mocha is the best !</td>\n",
       "      <td>en</td>\n",
       "      <td>ice shaken white mocha best</td>\n",
       "      <td>0.153</td>\n",
       "      <td>0.353</td>\n",
       "      <td>0.494</td>\n",
       "      <td>0.5994</td>\n",
       "      <td>positive</td>\n",
       "      <td>Aligned</td>\n",
       "    </tr>\n",
       "    <tr>\n",
       "      <th>4</th>\n",
       "      <td>South</td>\n",
       "      <td>Jazan</td>\n",
       "      <td>shopping_mall</td>\n",
       "      <td>shopping_mall</td>\n",
       "      <td>Hyper Crash Prices</td>\n",
       "      <td>4.1</td>\n",
       "      <td>More nice when i see a lot of changing and mor...</td>\n",
       "      <td>en</td>\n",
       "      <td>nice see lot changing choices attractive outsi...</td>\n",
       "      <td>0.000</td>\n",
       "      <td>0.771</td>\n",
       "      <td>0.229</td>\n",
       "      <td>0.8225</td>\n",
       "      <td>positive</td>\n",
       "      <td>Aligned</td>\n",
       "    </tr>\n",
       "    <tr>\n",
       "      <th>...</th>\n",
       "      <td>...</td>\n",
       "      <td>...</td>\n",
       "      <td>...</td>\n",
       "      <td>...</td>\n",
       "      <td>...</td>\n",
       "      <td>...</td>\n",
       "      <td>...</td>\n",
       "      <td>...</td>\n",
       "      <td>...</td>\n",
       "      <td>...</td>\n",
       "      <td>...</td>\n",
       "      <td>...</td>\n",
       "      <td>...</td>\n",
       "      <td>...</td>\n",
       "      <td>...</td>\n",
       "    </tr>\n",
       "    <tr>\n",
       "      <th>17350</th>\n",
       "      <td>South</td>\n",
       "      <td>Al Baha</td>\n",
       "      <td>restaurant</td>\n",
       "      <td>restaurant</td>\n",
       "      <td>شباك شامي</td>\n",
       "      <td>4.1</td>\n",
       "      <td>Excellent food quality and service. The owner ...</td>\n",
       "      <td>en</td>\n",
       "      <td>excellent food quality service owner kind help...</td>\n",
       "      <td>0.000</td>\n",
       "      <td>0.447</td>\n",
       "      <td>0.553</td>\n",
       "      <td>0.8720</td>\n",
       "      <td>positive</td>\n",
       "      <td>Aligned</td>\n",
       "    </tr>\n",
       "    <tr>\n",
       "      <th>17351</th>\n",
       "      <td>West</td>\n",
       "      <td>Mecca</td>\n",
       "      <td>tourist_attraction</td>\n",
       "      <td>museum</td>\n",
       "      <td>Clock Tower Museum</td>\n",
       "      <td>4.5</td>\n",
       "      <td>The Clock Tower Museum in Makkah is an incredi...</td>\n",
       "      <td>en</td>\n",
       "      <td>clock tower museum makkah incredible place vis...</td>\n",
       "      <td>0.000</td>\n",
       "      <td>0.741</td>\n",
       "      <td>0.259</td>\n",
       "      <td>0.9509</td>\n",
       "      <td>positive</td>\n",
       "      <td>Aligned</td>\n",
       "    </tr>\n",
       "    <tr>\n",
       "      <th>17352</th>\n",
       "      <td>North</td>\n",
       "      <td>Umluj</td>\n",
       "      <td>shopping_mall</td>\n",
       "      <td>shopping_mall</td>\n",
       "      <td>ارض استثمارية ورثة حسين عبدالرحمن الشريف</td>\n",
       "      <td>3.6</td>\n",
       "      <td>Excellent</td>\n",
       "      <td>en-US</td>\n",
       "      <td>excellent</td>\n",
       "      <td>0.000</td>\n",
       "      <td>0.000</td>\n",
       "      <td>1.000</td>\n",
       "      <td>0.5719</td>\n",
       "      <td>positive</td>\n",
       "      <td>Aligned</td>\n",
       "    </tr>\n",
       "    <tr>\n",
       "      <th>17353</th>\n",
       "      <td>West</td>\n",
       "      <td>Medina</td>\n",
       "      <td>tourist_attraction</td>\n",
       "      <td>lodging</td>\n",
       "      <td>Madinah Hilton</td>\n",
       "      <td>4.4</td>\n",
       "      <td>I always struggle to decide where to eat in Ma...</td>\n",
       "      <td>en</td>\n",
       "      <td>always struggle decide eat madina place truly ...</td>\n",
       "      <td>0.028</td>\n",
       "      <td>0.432</td>\n",
       "      <td>0.540</td>\n",
       "      <td>0.9916</td>\n",
       "      <td>positive</td>\n",
       "      <td>Aligned</td>\n",
       "    </tr>\n",
       "    <tr>\n",
       "      <th>17354</th>\n",
       "      <td>West</td>\n",
       "      <td>Yanbu</td>\n",
       "      <td>hotel</td>\n",
       "      <td>lodging</td>\n",
       "      <td>fakher yanbu 3</td>\n",
       "      <td>4.2</td>\n",
       "      <td>Stayed there just for the night and left the n...</td>\n",
       "      <td>en</td>\n",
       "      <td>stayed night left next morning room bathroom c...</td>\n",
       "      <td>0.000</td>\n",
       "      <td>0.679</td>\n",
       "      <td>0.321</td>\n",
       "      <td>0.9336</td>\n",
       "      <td>positive</td>\n",
       "      <td>Aligned</td>\n",
       "    </tr>\n",
       "  </tbody>\n",
       "</table>\n",
       "<p>17355 rows × 15 columns</p>\n",
       "</div>"
      ],
      "text/plain": [
       "        Region      City          Place Type Place Category  \\\n",
       "0      Central  Buraidah          restaurant     restaurant   \n",
       "1      Central  Buraidah       shopping_mall  shopping_mall   \n",
       "2         West     Mecca          restaurant     restaurant   \n",
       "3         East   Al Ahsa                cafe           cafe   \n",
       "4        South     Jazan       shopping_mall  shopping_mall   \n",
       "...        ...       ...                 ...            ...   \n",
       "17350    South   Al Baha          restaurant     restaurant   \n",
       "17351     West     Mecca  tourist_attraction         museum   \n",
       "17352    North     Umluj       shopping_mall  shopping_mall   \n",
       "17353     West    Medina  tourist_attraction        lodging   \n",
       "17354     West     Yanbu               hotel        lodging   \n",
       "\n",
       "                                     Place Name  Rating  \\\n",
       "0                        مطعم & لاونج لي شارمنت     3.8   \n",
       "1                                 Al Jedai Mall     3.9   \n",
       "2                             Makkah Restaurant     4.1   \n",
       "3                                Barn's | بارنز     4.4   \n",
       "4                            Hyper Crash Prices     4.1   \n",
       "...                                         ...     ...   \n",
       "17350                                 شباك شامي     4.1   \n",
       "17351                        Clock Tower Museum     4.5   \n",
       "17352  ارض استثمارية ورثة حسين عبدالرحمن الشريف     3.6   \n",
       "17353                            Madinah Hilton     4.4   \n",
       "17354                            fakher yanbu 3     4.2   \n",
       "\n",
       "                                             Review Text Reviewer Language  \\\n",
       "0      The place was nice and the staffs are very acc...                en   \n",
       "1      The return of forbidden wearing short😅. Dont g...                en   \n",
       "2      Very very very unhygienic maintained\\nThe floo...                en   \n",
       "3                   Ice shaken white mocha is the best !                en   \n",
       "4      More nice when i see a lot of changing and mor...                en   \n",
       "...                                                  ...               ...   \n",
       "17350  Excellent food quality and service. The owner ...                en   \n",
       "17351  The Clock Tower Museum in Makkah is an incredi...                en   \n",
       "17352                                          Excellent             en-US   \n",
       "17353  I always struggle to decide where to eat in Ma...                en   \n",
       "17354  Stayed there just for the night and left the n...                en   \n",
       "\n",
       "                                          Cleaned Review    neg    neu    pos  \\\n",
       "0      place nice staffs accommodating credit manager...  0.000  0.470  0.530   \n",
       "1      return forbidden wearing short😅 dont go al oth...  0.203  0.797  0.000   \n",
       "2      unhygienic maintained floors chipchip could fe...  0.028  0.653  0.320   \n",
       "3                            ice shaken white mocha best  0.153  0.353  0.494   \n",
       "4      nice see lot changing choices attractive outsi...  0.000  0.771  0.229   \n",
       "...                                                  ...    ...    ...    ...   \n",
       "17350  excellent food quality service owner kind help...  0.000  0.447  0.553   \n",
       "17351  clock tower museum makkah incredible place vis...  0.000  0.741  0.259   \n",
       "17352                                          excellent  0.000  0.000  1.000   \n",
       "17353  always struggle decide eat madina place truly ...  0.028  0.432  0.540   \n",
       "17354  stayed night left next morning room bathroom c...  0.000  0.679  0.321   \n",
       "\n",
       "       compound Sentiment Label Mismatch  \n",
       "0        0.9601        positive  Aligned  \n",
       "1       -0.4215        negative  Aligned  \n",
       "2        0.9692        positive  Aligned  \n",
       "3        0.5994        positive  Aligned  \n",
       "4        0.8225        positive  Aligned  \n",
       "...         ...             ...      ...  \n",
       "17350    0.8720        positive  Aligned  \n",
       "17351    0.9509        positive  Aligned  \n",
       "17352    0.5719        positive  Aligned  \n",
       "17353    0.9916        positive  Aligned  \n",
       "17354    0.9336        positive  Aligned  \n",
       "\n",
       "[17355 rows x 15 columns]"
      ]
     },
     "execution_count": 6,
     "metadata": {},
     "output_type": "execute_result"
    }
   ],
   "source": [
    "review_data= pd.read_csv(\"review_data.csv\")\n",
    "review_data = review_data.sample(frac=1).reset_index(drop=True)\n",
    "review_data"
   ]
  },
  {
   "cell_type": "code",
   "execution_count": null,
   "id": "9c8078ec",
   "metadata": {},
   "outputs": [],
   "source": []
  }
 ],
 "metadata": {
  "kernelspec": {
   "display_name": "Beyond_the_Stars",
   "language": "python",
   "name": "python3"
  },
  "language_info": {
   "codemirror_mode": {
    "name": "ipython",
    "version": 3
   },
   "file_extension": ".py",
   "mimetype": "text/x-python",
   "name": "python",
   "nbconvert_exporter": "python",
   "pygments_lexer": "ipython3",
   "version": "3.10.6"
  }
 },
 "nbformat": 4,
 "nbformat_minor": 5
}
