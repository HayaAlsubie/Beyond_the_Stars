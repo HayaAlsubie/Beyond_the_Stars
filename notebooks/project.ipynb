{
 "cells": [
  {
   "cell_type": "code",
   "execution_count": 1,
   "id": "ec1326d7",
   "metadata": {},
   "outputs": [],
   "source": [
    "import pandas as pd"
   ]
  },
  {
   "cell_type": "code",
   "execution_count": 2,
   "id": "c15f467b",
   "metadata": {},
   "outputs": [],
   "source": [
    "review = pd.read_csv(\"all_reviews.csv\")"
   ]
  },
  {
   "cell_type": "code",
   "execution_count": 3,
   "id": "ad57c840",
   "metadata": {},
   "outputs": [
    {
     "name": "stdout",
     "output_type": "stream",
     "text": [
      "<class 'pandas.core.frame.DataFrame'>\n",
      "RangeIndex: 19345 entries, 0 to 19344\n",
      "Data columns (total 8 columns):\n",
      " #   Column             Non-Null Count  Dtype  \n",
      "---  ------             --------------  -----  \n",
      " 0   Region             19345 non-null  object \n",
      " 1   City               19345 non-null  object \n",
      " 2   Place Type         19345 non-null  object \n",
      " 3   Place Category     19345 non-null  object \n",
      " 4   Place Name         19345 non-null  object \n",
      " 5   Rating             19345 non-null  float64\n",
      " 6   Review Text        19143 non-null  object \n",
      " 7   Reviewer Language  19345 non-null  object \n",
      "dtypes: float64(1), object(7)\n",
      "memory usage: 1.2+ MB\n"
     ]
    }
   ],
   "source": [
    "review.info()"
   ]
  },
  {
   "cell_type": "code",
   "execution_count": 4,
   "id": "d6b3fc43",
   "metadata": {},
   "outputs": [
    {
     "data": {
      "text/plain": [
       "Index(['Region', 'City', 'Place Type', 'Place Category', 'Place Name',\n",
       "       'Rating', 'Review Text', 'Reviewer Language'],\n",
       "      dtype='object')"
      ]
     },
     "execution_count": 4,
     "metadata": {},
     "output_type": "execute_result"
    }
   ],
   "source": [
    "review.columns"
   ]
  },
  {
   "cell_type": "code",
   "execution_count": 5,
   "id": "a63a2326",
   "metadata": {},
   "outputs": [
    {
     "name": "stderr",
     "output_type": "stream",
     "text": [
      "[nltk_data] Downloading package punkt to /home/farajay96/nltk_data...\n",
      "[nltk_data]   Package punkt is already up-to-date!\n",
      "[nltk_data] Downloading package stopwords to\n",
      "[nltk_data]     /home/farajay96/nltk_data...\n",
      "[nltk_data]   Package stopwords is already up-to-date!\n"
     ]
    },
    {
     "data": {
      "text/plain": [
       "True"
      ]
     },
     "execution_count": 5,
     "metadata": {},
     "output_type": "execute_result"
    }
   ],
   "source": [
    "import pandas as pd\n",
    "import string\n",
    "import re\n",
    "from nltk.corpus import stopwords\n",
    "from nltk.tokenize import word_tokenize\n",
    "import nltk\n",
    "\n",
    "# Download stopwords if not done already\n",
    "nltk.download('punkt')\n",
    "nltk.download('stopwords')"
   ]
  },
  {
   "cell_type": "code",
   "execution_count": 6,
   "id": "f5d3f0fb",
   "metadata": {},
   "outputs": [
    {
     "data": {
      "text/plain": [
       "(19143, 8)"
      ]
     },
     "execution_count": 6,
     "metadata": {},
     "output_type": "execute_result"
    }
   ],
   "source": [
    "# Step 1.1: Drop rows with missing Review Text\n",
    "review = review.dropna(subset=['Review Text'])\n",
    "\n",
    "review.shape"
   ]
  },
  {
   "cell_type": "code",
   "execution_count": 7,
   "id": "304b6cb2",
   "metadata": {},
   "outputs": [
    {
     "data": {
      "text/plain": [
       "(17762, 8)"
      ]
     },
     "execution_count": 7,
     "metadata": {},
     "output_type": "execute_result"
    }
   ],
   "source": [
    "# Step 1.2: Remove duplicate rows (based on Review Text + Place Name)\n",
    "review = review.drop_duplicates(subset=['Review Text', 'Place Name'])\n",
    "review.shape"
   ]
  },
  {
   "cell_type": "code",
   "execution_count": 8,
   "id": "0e4faaa2",
   "metadata": {},
   "outputs": [
    {
     "data": {
      "text/plain": [
       "(17762, 8)"
      ]
     },
     "execution_count": 8,
     "metadata": {},
     "output_type": "execute_result"
    }
   ],
   "source": [
    "# Step 1.1: Drop rows with missing Review Text\n",
    "review = review.dropna(subset=['Review Text'])\n",
    "review.shape"
   ]
  },
  {
   "cell_type": "code",
   "execution_count": 9,
   "id": "d77cbb43",
   "metadata": {},
   "outputs": [
    {
     "data": {
      "text/plain": [
       "(17762, 8)"
      ]
     },
     "execution_count": 9,
     "metadata": {},
     "output_type": "execute_result"
    }
   ],
   "source": [
    "# Step 1.2: Remove duplicate rows (based on Review Text + Place Name)\n",
    "review = review.drop_duplicates(subset=['Review Text', 'Place Name'])\n",
    "review.shape"
   ]
  },
  {
   "cell_type": "code",
   "execution_count": 10,
   "id": "0400984f",
   "metadata": {},
   "outputs": [
    {
     "name": "stderr",
     "output_type": "stream",
     "text": [
      "[nltk_data] Downloading package punkt to /home/farajay96/nltk_data...\n",
      "[nltk_data]   Package punkt is already up-to-date!\n",
      "[nltk_data] Downloading package stopwords to\n",
      "[nltk_data]     /home/farajay96/nltk_data...\n",
      "[nltk_data]   Package stopwords is already up-to-date!\n"
     ]
    },
    {
     "name": "stdout",
     "output_type": "stream",
     "text": [
      "location best good chains outlets available within km distance rooms big amenities served try room service comment checkin checkout smooth cleanliness could improved\n"
     ]
    }
   ],
   "source": [
    "import re\n",
    "import string\n",
    "from nltk.corpus import stopwords\n",
    "from nltk.tokenize import word_tokenize\n",
    "\n",
    "# make sure NLTK resources are downloaded\n",
    "import nltk\n",
    "nltk.download('punkt')\n",
    "nltk.download('stopwords')\n",
    "\n",
    "# Step 1.3: Define the cleaning function\n",
    "def clean_text(text):\n",
    "    text = text.lower()  # lowercase\n",
    "    text = re.sub(r'\\d+', '', text)  # remove numbers\n",
    "    text = text.translate(str.maketrans('', '', string.punctuation))  # remove punctuation\n",
    "    tokens = word_tokenize(text)  # tokenize\n",
    "    stop_words = set(stopwords.words('english'))  # define stopwords\n",
    "    tokens = [word for word in tokens if word not in stop_words]  # remove stopwords\n",
    "    return ' '.join(tokens)  # rejoin cleaned words\n",
    "\n",
    "# Apply to your DataFrame\n",
    "review['Cleaned Review'] = review['Review Text'].apply(clean_text)\n",
    "\n",
    "# Check the result\n",
    "print(review['Cleaned Review'][0])\n"
   ]
  },
  {
   "cell_type": "code",
   "execution_count": 11,
   "id": "f8fdf7e9",
   "metadata": {},
   "outputs": [],
   "source": [
    "# Step 1.4: Apply cleaning\n",
    "review['Cleaned Review'] = review['Review Text'].apply(clean_text)\n"
   ]
  },
  {
   "cell_type": "code",
   "execution_count": 12,
   "id": "1b5a3dff",
   "metadata": {},
   "outputs": [
    {
     "data": {
      "text/plain": [
       "'location best good chains outlets available within km distance rooms big amenities served try room service comment checkin checkout smooth cleanliness could improved'"
      ]
     },
     "execution_count": 12,
     "metadata": {},
     "output_type": "execute_result"
    }
   ],
   "source": [
    "#checking one cleaned review\n",
    "review['Cleaned Review'][0]"
   ]
  },
  {
   "cell_type": "markdown",
   "id": "18fd0625",
   "metadata": {},
   "source": [
    "## ✅ Filter to Keep Only English Reviews\n"
   ]
  },
  {
   "cell_type": "code",
   "execution_count": 13,
   "id": "51e3b45e",
   "metadata": {},
   "outputs": [
    {
     "name": "stdout",
     "output_type": "stream",
     "text": [
      "Remaining rows after keeping only English reviews: 17355\n",
      "Languages kept:\n",
      "en       15585\n",
      "en-US     1770\n",
      "Name: Reviewer Language, dtype: int64\n"
     ]
    }
   ],
   "source": [
    "# Define allowed English language tags\n",
    "allowed_langs = ['en', 'en-us']\n",
    "\n",
    "# Filter to keep only rows with 'en' or 'en-US' (case-insensitive)\n",
    "review = review[review['Reviewer Language'].str.lower().isin(allowed_langs)]\n",
    "\n",
    "# Reset index\n",
    "review = review.reset_index(drop=True)\n",
    "\n",
    "# Check result\n",
    "print(f\"Remaining rows after keeping only English reviews: {len(review)}\")\n",
    "print(\"Languages kept:\")\n",
    "print(review['Reviewer Language'].value_counts())\n"
   ]
  },
  {
   "cell_type": "markdown",
   "id": "e5e6b157",
   "metadata": {},
   "source": [
    "## ✅ Step 3: Sentiment Analysis (Labeling Reviews, dummy model)\n"
   ]
  },
  {
   "cell_type": "code",
   "execution_count": 14,
   "id": "2377cfbe",
   "metadata": {},
   "outputs": [
    {
     "name": "stderr",
     "output_type": "stream",
     "text": [
      "[nltk_data] Downloading package vader_lexicon to\n",
      "[nltk_data]     /home/farajay96/nltk_data...\n",
      "[nltk_data]   Package vader_lexicon is already up-to-date!\n"
     ]
    },
    {
     "name": "stdout",
     "output_type": "stream",
     "text": [
      "                                          Cleaned Review  compound  \\\n",
      "16222  ⭐⭐⭐⭐⭐ absolutely outstanding al nakheel mall h...    0.9963   \n",
      "8655   wow beautiful park something everyone breathta...    0.8934   \n",
      "9014   hospitality highclass treatment beautiful thin...    0.8020   \n",
      "1272   best shawarma umluj good meat shawarma service...    0.8750   \n",
      "7094                                     good experience    0.4404   \n",
      "\n",
      "      Sentiment Label  \n",
      "16222        positive  \n",
      "8655         positive  \n",
      "9014         positive  \n",
      "1272         positive  \n",
      "7094         positive  \n"
     ]
    }
   ],
   "source": [
    "from nltk.sentiment.vader import SentimentIntensityAnalyzer\n",
    "import nltk\n",
    "\n",
    "# Download the lexicon\n",
    "nltk.download('vader_lexicon')\n",
    "\n",
    "# Initialize sentiment analyzer\n",
    "vader = SentimentIntensityAnalyzer()\n",
    "\n",
    "# Apply sentiment scoring\n",
    "def get_sentiment_scores(text):\n",
    "    return vader.polarity_scores(text)\n",
    "\n",
    "# Create new sentiment columns\n",
    "sentiment_scores = review['Cleaned Review'].apply(get_sentiment_scores).apply(pd.Series)\n",
    "\n",
    "# Merge back to review DataFrame\n",
    "review = pd.concat([review, sentiment_scores], axis=1)\n",
    "\n",
    "# Label sentiment based on compound score\n",
    "def label_sentiment(compound):\n",
    "    if compound >= 0.05:\n",
    "        return 'positive'\n",
    "    elif compound <= -0.05:\n",
    "        return 'negative'\n",
    "    else:\n",
    "        return 'neutral'\n",
    "\n",
    "review['Sentiment Label'] = review['compound'].apply(label_sentiment)\n",
    "\n",
    "# Preview results\n",
    "print(review[['Cleaned Review', 'compound', 'Sentiment Label']].sample(5))\n"
   ]
  },
  {
   "cell_type": "code",
   "execution_count": 15,
   "id": "722bc75c",
   "metadata": {},
   "outputs": [
    {
     "data": {
      "text/plain": [
       "<AxesSubplot:>"
      ]
     },
     "execution_count": 15,
     "metadata": {},
     "output_type": "execute_result"
    },
    {
     "data": {
      "image/png": "[encoded data removed]",
      "text/plain": [
       "<Figure size 640x480 with 1 Axes>"
      ]
     },
     "metadata": {},
     "output_type": "display_data"
    }
   ],
   "source": [
    "review[\"Sentiment Label\"].hist()"
   ]
  },
  {
   "cell_type": "code",
   "execution_count": null,
   "id": "9e388068",
   "metadata": {},
   "outputs": [],
   "source": []
  },
  {
   "cell_type": "code",
   "execution_count": null,
   "id": "0ac8bdf4",
   "metadata": {},
   "outputs": [],
   "source": []
  }
 ],
 "metadata": {
  "kernelspec": {
   "display_name": "Python 3",
   "language": "python",
   "name": "python3"
  },
  "language_info": {
   "codemirror_mode": {
    "name": "ipython",
    "version": 3
   },
   "file_extension": ".py",
   "mimetype": "text/x-python",
   "name": "python",
   "nbconvert_exporter": "python",
   "pygments_lexer": "ipython3",
   "version": "3.10.6"
  }
 },
 "nbformat": 4,
 "nbformat_minor": 5
}
