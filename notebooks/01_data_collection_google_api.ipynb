{
 "cells": [
  {
   "cell_type": "code",
   "execution_count": null,
   "id": "f9423974",
   "metadata": {},
   "outputs": [
    {
     "name": "stdout",
     "output_type": "stream",
     "text": [
      "🔍 Searching for hotels in Al Baha...\n",
      "🔍 Searching for restaurants in Al Baha...\n",
      "🔍 Searching for tourist_attractions in Al Baha...\n",
      "🔍 Searching for shopping_malls in Al Baha...\n",
      "🔍 Searching for museums in Al Baha...\n",
      "🔍 Searching for cafes in Al Baha...\n",
      "🔍 Searching for parks in Al Baha...\n",
      "🔍 Searching for amusement_parks in Al Baha...\n",
      "✅ Saved 905 reviews in Al Baha.csv\n",
      "\n"
     ]
    }
   ],
   "source": [
    "import requests\n",
    "import pandas as pd\n",
    "import time\n",
    "import os\n",
    "\n",
    "API_KEY = \"my api key\"\n",
    "\n",
    "cities = [\n",
    "    {\"city\": \"Mecca\", \"region\": \"West\"},\n",
    "    {\"city\": \"Jeddah\", \"region\": \"West\"},\n",
    "    {\"city\": \"Taif\", \"region\": \"West\"},\n",
    "    {\"city\": \"Khobar\", \"region\": \"East\"},\n",
    "    {\"city\": \"Umluj\", \"region\": \"North\"},\n",
    "    {\"city\": \"AlUla\", \"region\": \"West\"},\n",
    "    {\"city\": \"Tabuk\", \"region\": \"North\"},\n",
    "    {\"city\": \"Medina\", \"region\": \"West\"},\n",
    "    {\"city\": \"Riyadh\", \"region\": \"Central\"},\n",
    "    {\"city\": \"Abha\", \"region\": \"South\"},\n",
    "    {\"city\": \"Al Ahsa\", \"region\": \"East\"},\n",
    "    {\"city\": \"Najran\", \"region\": \"South\"},\n",
    "    {\"city\": \"Qatif\", \"region\": \"East\"},\n",
    "    {\"city\": \"Buraidah\", \"region\": \"Central\"},\n",
    "    {\"city\": \"Unaizah\", \"region\": \"Central\"},\n",
    "    {\"city\": \"Rijal Alma\", \"region\": \"South\"},\n",
    "    {\"city\": \"Hail\", \"region\": \"North\"},\n",
    "    {\"city\": \"Yanbu\", \"region\": \"West\"},\n",
    "    {\"city\": \"Al Baha\", \"region\": \"South\"},\n",
    "    {\"city\": \"Jazan\", \"region\": \"South\"}\n",
    "\n",
    "\n",
    "]\n",
    "\n",
    "\n",
    "place_types = [\n",
    "    {\"type\": \"hotel\", \"max_results\": 100},\n",
    "    {\"type\": \"restaurant\", \"max_results\": 100},\n",
    "    {\"type\": \"tourist_attraction\", \"max_results\": 20},\n",
    "    {\"type\": \"shopping_mall\", \"max_results\": 20},\n",
    "    {\"type\": \"museum\", \"max_results\": 10},\n",
    "    {\"type\": \"cafe\", \"max_results\": 30},\n",
    "    {\"type\": \"park\", \"max_results\": 10},\n",
    "    {\"type\": \"amusement_park\", \"max_results\": 20}\n",
    "]\n",
    "\n",
    "# Create a folder to save the files\n",
    "os.makedirs(\"csv\", exist_ok=True)\n",
    "\n",
    "# Start looping through cities and place types\n",
    "for city_info in cities:\n",
    "    city = city_info[\"city\"]\n",
    "    region = city_info[\"region\"]\n",
    "\n",
    "    city_data = []\n",
    "\n",
    "    for place in place_types:\n",
    "        place_type = place[\"type\"]\n",
    "        max_results = place[\"max_results\"]\n",
    "\n",
    "        print(f\"🔍 Searching for {place_type}s in {city}...\")\n",
    "\n",
    "        url = \"https://maps.googleapis.com/maps/api/place/textsearch/json\"\n",
    "        params = {\n",
    "            \"query\": f\"{place_type}s in {city}\",\n",
    "            \"key\": API_KEY\n",
    "        }\n",
    "\n",
    "        all_places = []\n",
    "        while True:\n",
    "            response = requests.get(url, params=params)\n",
    "            results = response.json().get(\"results\", [])\n",
    "            all_places.extend(results)\n",
    "\n",
    "            next_page_token = response.json().get(\"next_page_token\")\n",
    "            if next_page_token and len(all_places) < max_results:\n",
    "                time.sleep(2)\n",
    "                params[\"pagetoken\"] = next_page_token\n",
    "            else:\n",
    "                break\n",
    "\n",
    "        for place_info in all_places[:max_results]:\n",
    "            details_url = \"https://maps.googleapis.com/maps/api/place/details/json\"\n",
    "            details_params = {\n",
    "                \"place_id\": place_info[\"place_id\"],\n",
    "                \"fields\": \"name,rating,reviews,types\",\n",
    "                \"key\": API_KEY\n",
    "            }\n",
    "\n",
    "            try:\n",
    "                details_response = requests.get(details_url, params=details_params)\n",
    "                details = details_response.json().get(\"result\", {})\n",
    "                reviews = details.get(\"reviews\", [])\n",
    "                place_category = details.get(\"types\", [None])[0]\n",
    "\n",
    "                for review in reviews:\n",
    "                    city_data.append({\n",
    "                        \"Region\": region,\n",
    "                        \"City\": city,\n",
    "                        \"Place Type\": place_type,\n",
    "                        \"Place Category\": place_category,\n",
    "                        \"Place Name\": details.get(\"name\", \"\"),\n",
    "                        \"Rating\": details.get(\"rating\", None),\n",
    "                        \"Review Text\": review.get(\"text\", \"\"),\n",
    "                        \"Reviewer Language\": review.get(\"language\", \"unknown\")\n",
    "                    })\n",
    "\n",
    "                time.sleep(1)\n",
    "\n",
    "            except Exception as e:\n",
    "                print(f\"❌ Error in {place_type} at {city}: {e}\")\n",
    "                continue\n",
    "\n",
    "    output_file = f\"{city}.csv\"\n",
    "    pd.DataFrame(city_data).to_csv(output_file, index=False)\n",
    "    print(f\"✅ Saved {len(city_data)} reviews in {output_file}\\n\")\n"
   ]
  },
  {
   "cell_type": "code",
   "execution_count": 90,
   "id": "0ee6db88",
   "metadata": {},
   "outputs": [
    {
     "name": "stdout",
     "output_type": "stream",
     "text": [
      " Done! Merged 20 files into one file with 19345 rows.\n"
     ]
    }
   ],
   "source": [
    "import pandas as pd\n",
    "import os\n",
    "\n",
    "folder_path = \"/Users/macbookpro/code/HayaAlsubie/Beyond_the_Stars/raw_data\"\n",
    "all_files = [f for f in os.listdir(folder_path) if f.endswith(\".csv\")]\n",
    "\n",
    "dfs = []\n",
    "\n",
    "for file in all_files:\n",
    "    df = pd.read_csv(os.path.join(folder_path, file))\n",
    "    dfs.append(df)\n",
    "\n",
    "merged_df = pd.concat(dfs, ignore_index=True)\n",
    "\n",
    "\n",
    "merged_df.to_csv(\"all_reviews.csv\", index=False)\n",
    "\n",
    "print(f\" Done! Merged {len(all_files)} files into one file with {len(merged_df)} rows.\")\n"
   ]
  },
  {
   "cell_type": "code",
   "execution_count": 91,
   "id": "4721cb37",
   "metadata": {},
   "outputs": [
    {
     "data": {
      "text/plain": [
       "(19345, 8)"
      ]
     },
     "execution_count": 91,
     "metadata": {},
     "output_type": "execute_result"
    }
   ],
   "source": [
    "file_path = \"all_reviews.csv\"\n",
    "df = pd.read_csv(file_path)\n",
    "df.shape"
   ]
  },
  {
   "cell_type": "code",
   "execution_count": 110,
   "id": "77cee32d",
   "metadata": {},
   "outputs": [
    {
     "data": {
      "text/plain": [
       "Index(['Region', 'City', 'Place Type', 'Place Category', 'Place Name',\n",
       "       'Rating', 'Review Text', 'Reviewer Language'],\n",
       "      dtype='object')"
      ]
     },
     "execution_count": 110,
     "metadata": {},
     "output_type": "execute_result"
    }
   ],
   "source": [
    "df.columns"
   ]
  },
  {
   "cell_type": "code",
   "execution_count": 113,
   "id": "a81d9367",
   "metadata": {},
   "outputs": [
    {
     "data": {
      "text/plain": [
       "array(['Hail', 'Umluj', 'Unaizah', 'Mecca', 'Buraidah', 'Al Ahsa',\n",
       "       'AlUla', 'Jeddah', 'Abha', 'Medina', 'Khobar', 'Taif', 'Al Baha',\n",
       "       'Najran', 'Tabuk', 'Qatif', 'Rijal Alma', 'Yanbu', 'Riyadh',\n",
       "       'Jazan'], dtype=object)"
      ]
     },
     "execution_count": 113,
     "metadata": {},
     "output_type": "execute_result"
    }
   ],
   "source": [
    "df['City'].unique()"
   ]
  },
  {
   "cell_type": "code",
   "execution_count": 112,
   "id": "327e92fd",
   "metadata": {},
   "outputs": [
    {
     "data": {
      "text/plain": [
       "Index(['Region', 'City', 'Place Type', 'Place Category', 'Place Name',\n",
       "       'Rating', 'Review Text', 'Reviewer Language'],\n",
       "      dtype='object')"
      ]
     },
     "execution_count": 112,
     "metadata": {},
     "output_type": "execute_result"
    }
   ],
   "source": [
    "df.columns"
   ]
  },
  {
   "cell_type": "code",
   "execution_count": 115,
   "id": "1ec7a5d3",
   "metadata": {},
   "outputs": [
    {
     "data": {
      "text/plain": [
       "array(['hotel', 'restaurant', 'tourist_attraction', 'shopping_mall',\n",
       "       'museum', 'cafe', 'park', 'amusement_park'], dtype=object)"
      ]
     },
     "execution_count": 115,
     "metadata": {},
     "output_type": "execute_result"
    }
   ],
   "source": [
    "df['Place Type'].unique()"
   ]
  },
  {
   "cell_type": "code",
   "execution_count": null,
   "id": "14242588",
   "metadata": {},
   "outputs": [],
   "source": []
  }
 ],
 "metadata": {
  "kernelspec": {
   "display_name": "Beyond_the_Stars",
   "language": "python",
   "name": "python3"
  },
  "language_info": {
   "codemirror_mode": {
    "name": "ipython",
    "version": 3
   },
   "file_extension": ".py",
   "mimetype": "text/x-python",
   "name": "python",
   "nbconvert_exporter": "python",
   "pygments_lexer": "ipython3",
   "version": "3.10.6"
  }
 },
 "nbformat": 4,
 "nbformat_minor": 5
}
